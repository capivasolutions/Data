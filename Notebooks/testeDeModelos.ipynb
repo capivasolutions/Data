{
 "cells": [
  {
   "cell_type": "markdown",
   "metadata": {},
   "source": [
    "# Inicialização"
   ]
  },
  {
   "cell_type": "code",
   "execution_count": 18,
   "metadata": {},
   "outputs": [
    {
     "name": "stdout",
     "output_type": "stream",
     "text": [
      "Index(['V3', 'V4', 'V5', 'V7', 'V9', 'V10', 'V11', 'V12', 'V14', 'V16', 'V17',\n",
      "       'V19', 'Amount', 'Class'],\n",
      "      dtype='object')\n"
     ]
    }
   ],
   "source": [
    "import matplotlib.pyplot as plt\n",
    "import pandas as pd\n",
    "import numpy as np\n",
    "import seaborn as sn\n",
    "from sklearn.metrics import accuracy_score\n",
    "from sklearn.metrics import precision_score\n",
    "from sklearn.metrics import recall_score\n",
    "from sklearn.metrics import f1_score\n",
    "from sklearn.metrics import cohen_kappa_score\n",
    "from sklearn.metrics import precision_recall_curve\n",
    "from sklearn.metrics import auc\n",
    "\n",
    "df_train = pd.read_csv('../Bases/treino.csv')\n",
    "df_val = pd.read_csv('../Bases/validacao.csv')\n",
    "df_test = pd.read_csv('../Bases/teste.csv')\n",
    "\n",
    "atributos_a_serem_descartados = ['Time', 'V1', 'V2', 'V6', 'V8', 'V13', 'V15', 'V18', 'V20', 'V21', 'V22', 'V23', 'V24', 'V25', 'V26', 'V27', 'V28']\n",
    "atributos_que_ficaram = ['V3', 'V4', 'V5', 'V7', 'V9', 'V10', 'V11', 'V12', 'V14', 'V16', 'V17', 'V19', 'Amount']\n",
    "\n",
    "#* Atributos importante para a fraude: V3, V4, V5, V7, V9, V10, V11, V12, V14, V16, V17\n",
    "#* Valores correlacionados negativamente: V17 V14 V12 V10 (Quanto menores mais chances de ser uma fraude)\n",
    "#* Valores correlacionados positivamente: V2, V4, V11, V19 (Quanto maiores mais chances de ser uma fraude)\n",
    "\n",
    "#* Atributos importante para o legitimo: V4, Amount\n",
    "\n",
    "df_train = df_train.drop(columns = atributos_a_serem_descartados)\n",
    "df_val = df_val.drop(columns = atributos_a_serem_descartados)\n",
    "df_test = df_test.drop(columns = atributos_a_serem_descartados)\n",
    "\n",
    "# Drop unnamed column\n",
    "df_train = df_train.drop(\"Unnamed: 0\", axis=1)\n",
    "df_val = df_val.drop(\"Unnamed: 0\", axis=1)\n",
    "df_test = df_test.drop(\"Unnamed: 0\", axis=1)\n",
    "\n",
    "print(df_train.columns)\n",
    "\n",
    "X_train = df_train.to_numpy()\n",
    "y_train = pd.DataFrame(X_train[:,-1])\n",
    "X_train = pd.DataFrame(X_train[:,:-1])\n",
    "\n",
    "X_val = df_val.to_numpy()\n",
    "y_val = pd.DataFrame(X_val[:,-1])\n",
    "X_val = pd.DataFrame(X_val[:,:-1])\n",
    "\n",
    "X_test = df_test.to_numpy()\n",
    "y_test = pd.DataFrame(X_test[:,-1])\n",
    "X_test = pd.DataFrame(X_test[:,:-1])"
   ]
  },
  {
   "cell_type": "code",
   "execution_count": 41,
   "metadata": {},
   "outputs": [],
   "source": [
    "X_train_np = X_train.to_numpy()\n",
    "X_val_np = X_val.to_numpy()\n",
    "X_test_np = X_test.to_numpy()\n",
    "\n",
    "y_train_np = y_train.to_numpy()\n",
    "y_val_np = y_val.to_numpy()\n",
    "y_test_np = y_test.to_numpy()\n",
    "\n",
    "y_train_np = y_train_np.reshape(1, len(y_train_np))\n",
    "y_val_np = y_val_np.reshape(1, len(y_val_np))\n",
    "y_test_np = y_test_np.reshape(1, len(y_test_np))\n",
    "\n",
    "y_train_np = y_train_np[0]\n",
    "y_val_np = y_val_np[0]\n",
    "y_test_np = y_test_np[0]"
   ]
  },
  {
   "cell_type": "markdown",
   "metadata": {},
   "source": [
    "# Modelos classificadores"
   ]
  },
  {
   "cell_type": "markdown",
   "metadata": {},
   "source": [
    "## Modelo MLP (Não funcional)"
   ]
  },
  {
   "cell_type": "code",
   "execution_count": 13,
   "metadata": {},
   "outputs": [],
   "source": [
    "#importando as bibliotecas\n",
    "import torch\n",
    "import torch.nn.functional as F\n",
    "import torch.nn as nn\n",
    "from torch.autograd import Variable\n",
    "\n",
    "#Definindo a arquitetura do modelo\n",
    "class MLP(nn.Module):\n",
    "    def __init__(self, input_dim, output_dim): #Definindo as componentes\n",
    "        super(MLP, self).__init__()\n",
    "        self.layerEntry = nn.Linear(input_dim, 8)\n",
    "        self.layerHidden1 = nn.Linear(8, 8)\n",
    "        self.layerHidden2 = nn.Linear(8, 10)\n",
    "        self.layerHidden3 = nn.Linear(10, 7)\n",
    "        self.layerHidden4 = nn.Linear(7, 8)\n",
    "        self.layerHidden5 = nn.Linear(8, 6)\n",
    "        self.layerHidden6 = nn.Linear(6, 4)\n",
    "        self.layerOut = nn.Linear(4, output_dim)\n",
    "\n",
    "    def forward(self, x): #Definindo a sequencia de execução das componentes\n",
    "        x = F.relu(self.layerEntry(x)) #função de ativação F.RELU ou F.sigmoid, ...\n",
    "        x = F.relu(self.layerHidden1(x))\n",
    "        x = F.relu(self.layerHidden2(x))\n",
    "        x = F.relu(self.layerHidden3(x))\n",
    "        x = F.relu(self.layerHidden4(x))\n",
    "        x = F.relu(self.layerHidden5(x))\n",
    "        x = F.relu(self.layerHidden6(x))\n",
    "        x = F.softmax(self.layerOut(x), dim=1)\n",
    "        return x"
   ]
  },
  {
   "cell_type": "code",
   "execution_count": 43,
   "metadata": {},
   "outputs": [],
   "source": [
    "#Criando o modelo\n",
    "num_atributes = X_train.shape[1] #Número de objetos no conjunto de treino\n",
    "\n",
    "#Criando o Modelo\n",
    "modelo_MLP = MLP(num_atributes, 2)\n",
    "\n",
    "#Método para calcular o GRADIENTE e ATUALIZAR pesos (otimizadores)\n",
    "optimizer = torch.optim.Adam(modelo_MLP.parameters(), lr=0.001)\n",
    "#optimizer = torch.optim.SGD(model.parameters(), lr=0.001, momentum=0.9)\n",
    "\n",
    "#Funções de Erro:\n",
    "loss_fn   = nn.CrossEntropyLoss() #Entropia Cruzada"
   ]
  },
  {
   "cell_type": "code",
   "execution_count": 42,
   "metadata": {},
   "outputs": [],
   "source": [
    "#Criando a estrutura de dados para o PYTORCH (Variable -> Tensor)\n",
    "X_trainT = Variable(torch.from_numpy(X_train_np)).float()\n",
    "y_trainT = Variable(torch.from_numpy(y_train_np)).long()\n",
    "\n",
    "X_valT = Variable(torch.from_numpy(X_val_np)).float()\n",
    "y_valT = Variable(torch.from_numpy(y_val_np)).long()\n",
    "\n",
    "X_testT  = Variable(torch.from_numpy(X_test_np)).float()\n",
    "y_testT  = Variable(torch.from_numpy(y_test_np)).long()\n"
   ]
  },
  {
   "cell_type": "code",
   "execution_count": 44,
   "metadata": {},
   "outputs": [
    {
     "name": "stderr",
     "output_type": "stream",
     "text": [
      "100%|██████████| 500/500 [01:22<00:00,  6.04it/s]"
     ]
    },
    {
     "name": "stdout",
     "output_type": "stream",
     "text": [
      "\n",
      "Menor erro da Validação:  0.6698935031890869  EPOCA  499\n"
     ]
    },
    {
     "name": "stderr",
     "output_type": "stream",
     "text": [
      "\n"
     ]
    }
   ],
   "source": [
    "#Treinamento do Modelo\n",
    "from sklearn import preprocessing\n",
    "import tqdm\n",
    "\n",
    "EPOCHS  = 500\n",
    "min_loss = 100000\n",
    "best_epoch = -1\n",
    "\n",
    "loss_train   = np.zeros((EPOCHS,))\n",
    "loss_val     = np.zeros((EPOCHS,))\n",
    "accuracy_list = np.zeros((EPOCHS,))\n",
    "\n",
    "for epoch in tqdm.trange(EPOCHS):\n",
    "    y_pred = modelo_MLP(X_trainT)\n",
    "    loss = loss_fn(y_pred, y_trainT)\n",
    "    loss_train[epoch] = loss.item()\n",
    "\n",
    "    optimizer.zero_grad()# Zerando os valores de Gradiente para não serem considerados da época anterior\n",
    "    loss.backward() # Calculando o Gradiente\n",
    "    optimizer.step() #Atualizando os paramentros da rede\n",
    "\n",
    "    with torch.no_grad(): #Aplicando o conjunto de validação\n",
    "        y_pred = modelo_MLP(X_valT)\n",
    "        loss = loss_fn(y_pred, y_valT)\n",
    "        loss_val[epoch] = loss.item()\n",
    "        if loss_val[epoch] < min_loss:\n",
    "          best_epoch = epoch\n",
    "          min_loss = loss_val[epoch]\n",
    "        correct = (torch.argmax(y_pred, dim=1) == y_valT).type(torch.FloatTensor)\n",
    "        accuracy_list[epoch] = correct.mean()\n",
    "\n",
    "print('\\nMenor erro da Validação: ',min_loss,' EPOCA ',best_epoch)"
   ]
  },
  {
   "cell_type": "code",
   "execution_count": 45,
   "metadata": {},
   "outputs": [
    {
     "data": {
      "image/png": "[encoded data removed]",
      "text/plain": [
       "<Figure size 864x432 with 2 Axes>"
      ]
     },
     "metadata": {
      "needs_background": "light"
     },
     "output_type": "display_data"
    }
   ],
   "source": [
    "fig, (ax1, ax2) = plt.subplots(2, figsize=(12, 6), sharex=True)\n",
    "\n",
    "ax1.plot(accuracy_list)\n",
    "ax1.set_ylabel(\"validation accuracy\")\n",
    "ax2.plot(loss_train,'-r',label='train')\n",
    "ax2.plot(loss_val,'-b',label='val')\n",
    "ax2.set_ylabel(\"validation loss\")\n",
    "ax2.set_xlabel(\"epochs\");\n",
    "ax2.legend();\n"
   ]
  },
  {
   "cell_type": "markdown",
   "metadata": {},
   "source": [
    "## Modelos Sklearn"
   ]
  },
  {
   "cell_type": "code",
   "execution_count": 6,
   "metadata": {},
   "outputs": [],
   "source": [
    "peso_AUC_validacao = 0.5\n",
    "peso_AUC_teste = 0.5"
   ]
  },
  {
   "cell_type": "markdown",
   "metadata": {},
   "source": [
    "### Modelo árvore de decisão "
   ]
  },
  {
   "cell_type": "code",
   "execution_count": 46,
   "metadata": {},
   "outputs": [
    {
     "name": "stdout",
     "output_type": "stream",
     "text": [
      "Precision/Recall da validação: 0.8386948819525966\n"
     ]
    },
    {
     "data": {
      "image/png": "[encoded data removed]",
      "text/plain": [
       "<Figure size 432x288 with 2 Axes>"
      ]
     },
     "metadata": {
      "needs_background": "light"
     },
     "output_type": "display_data"
    },
    {
     "name": "stdout",
     "output_type": "stream",
     "text": [
      "Precision/Recall do teste: 0.885996148179358\n"
     ]
    },
    {
     "data": {
      "image/png": "[encoded data removed]",
      "text/plain": [
       "<Figure size 432x288 with 2 Axes>"
      ]
     },
     "metadata": {
      "needs_background": "light"
     },
     "output_type": "display_data"
    },
    {
     "name": "stdout",
     "output_type": "stream",
     "text": [
      "Acurácia: 0.9996, Precisão: 0.8519, Recall: 0.9200, F1-Score: 0.8846 e Kappa: 0.8844\n"
     ]
    }
   ],
   "source": [
    "from sklearn import tree\n",
    "\n",
    "auc_score = 0\n",
    "\n",
    "while 0.861 > auc_score:\n",
    "    modelo_arvore_decisao = tree.DecisionTreeClassifier()\n",
    "    modelo_arvore_decisao = modelo_arvore_decisao.fit(X_train, y_train)\n",
    "    y_pred = modelo_arvore_decisao.predict(X_val)\n",
    "\n",
    "    precision, recall, _ = precision_recall_curve(y_val, y_pred)\n",
    "    auc_score_val = auc(recall, precision)\n",
    "\n",
    "    y_pred = modelo_arvore_decisao.predict(X_test)\n",
    "    precision, recall, _ = precision_recall_curve(y_test, y_pred)\n",
    "    auc_score_test = auc(recall, precision)\n",
    "    auc_score = (auc_score_val * peso_AUC_validacao) + (auc_score_test * peso_AUC_teste)\n",
    "\n",
    "y_pred = modelo_arvore_decisao.predict(X_val)\n",
    "precision, recall, _ = precision_recall_curve(y_val, y_pred)\n",
    "auc_score_val = auc(recall, precision)\n",
    "\n",
    "print(f\"Precision/Recall da validação: {auc_score_val}\")\n",
    "\n",
    "confusion_matrix = pd.crosstab(y_val_np, y_pred, rownames=['Validação'], colnames=['Predito']);\n",
    "sn.heatmap(confusion_matrix, annot=True);\n",
    "plt.show()\n",
    "\n",
    "y_pred = modelo_arvore_decisao.predict(X_test)\n",
    "precision, recall, _ = precision_recall_curve(y_test, y_pred)\n",
    "auc_score_val = auc(recall, precision)\n",
    "\n",
    "print(f\"Precision/Recall do teste: {auc_score_val}\")\n",
    "\n",
    "confusion_matrix = pd.crosstab(y_test_np, y_pred, rownames=['Teste'], colnames=['Predito']);\n",
    "sn.heatmap(confusion_matrix, annot=True);\n",
    "plt.show()\n",
    "\n",
    "accuracy = accuracy_score(y_test, y_pred)\n",
    "precision = precision_score(y_test, y_pred)\n",
    "recall = recall_score(y_test, y_pred)\n",
    "f1 = f1_score(y_test, y_pred)\n",
    "kappa = cohen_kappa_score(y_test, y_pred)\n",
    "\n",
    "print(f\"Acurácia: {accuracy:.4f}, Precisão: {precision:.4f}, Recall: {recall:.4f}, F1-Score: {f1:.4f} e Kappa: {kappa:.4f}\")"
   ]
  },
  {
   "cell_type": "markdown",
   "metadata": {},
   "source": [
    "### Modelo Random Forest "
   ]
  },
  {
   "cell_type": "code",
   "execution_count": 49,
   "metadata": {},
   "outputs": [
    {
     "name": "stdout",
     "output_type": "stream",
     "text": [
      "Precision/Recall da validação: 0.9308139551575747\n"
     ]
    },
    {
     "data": {
      "image/png": "[encoded data removed]",
      "text/plain": [
       "<Figure size 432x288 with 2 Axes>"
      ]
     },
     "metadata": {
      "needs_background": "light"
     },
     "output_type": "display_data"
    },
    {
     "name": "stdout",
     "output_type": "stream",
     "text": [
      "Precision/Recall do teste: 0.9187592525798698\n"
     ]
    },
    {
     "data": {
      "image/png": "[encoded data removed]",
      "text/plain": [
       "<Figure size 432x288 with 2 Axes>"
      ]
     },
     "metadata": {
      "needs_background": "light"
     },
     "output_type": "display_data"
    },
    {
     "name": "stdout",
     "output_type": "stream",
     "text": [
      "Acurácia: 0.9997, Precisão: 0.9773, Recall: 0.8600, F1-Score: 0.9149 e Kappa: 0.9148\n"
     ]
    }
   ],
   "source": [
    "from sklearn.ensemble import RandomForestClassifier\n",
    "\n",
    "auc_score = 0\n",
    "\n",
    "while 0.92 > auc_score:\n",
    "    modelo_arvore_aleatoria_decisao = RandomForestClassifier()\n",
    "    modelo_arvore_aleatoria_decisao = modelo_arvore_aleatoria_decisao.fit(X_train, y_train_np)\n",
    "    y_pred = modelo_arvore_aleatoria_decisao.predict(X_val)\n",
    "\n",
    "    precision, recall, _ = precision_recall_curve(y_val, y_pred)\n",
    "    auc_score_val = auc(recall, precision)\n",
    "\n",
    "    y_pred = modelo_arvore_aleatoria_decisao.predict(X_test)\n",
    "    precision, recall, _ = precision_recall_curve(y_test, y_pred)\n",
    "    auc_score_test = auc(recall, precision)\n",
    "    \n",
    "    auc_score = (auc_score_val * peso_AUC_validacao) + (auc_score_test * peso_AUC_teste)\n",
    "\n",
    "y_pred = modelo_arvore_aleatoria_decisao.predict(X_val)\n",
    "precision, recall, _ = precision_recall_curve(y_val, y_pred)\n",
    "auc_score_val = auc(recall, precision)\n",
    "\n",
    "print(f\"Precision/Recall da validação: {auc_score_val}\")\n",
    "\n",
    "confusion_matrix = pd.crosstab(y_val_np, y_pred, rownames=['Validação'], colnames=['Predito']);\n",
    "sn.heatmap(confusion_matrix, annot=True);\n",
    "plt.show()\n",
    "\n",
    "y_pred = modelo_arvore_aleatoria_decisao.predict(X_test)\n",
    "precision, recall, _ = precision_recall_curve(y_test, y_pred)\n",
    "auc_score_val = auc(recall, precision)\n",
    "\n",
    "print(f\"Precision/Recall do teste: {auc_score_val}\")\n",
    "\n",
    "confusion_matrix = pd.crosstab(y_test_np, y_pred, rownames=['Teste'], colnames=['Predito']);\n",
    "sn.heatmap(confusion_matrix, annot=True);\n",
    "plt.show()\n",
    "\n",
    "accuracy = accuracy_score(y_test, y_pred)\n",
    "precision = precision_score(y_test, y_pred)\n",
    "recall = recall_score(y_test, y_pred)\n",
    "f1 = f1_score(y_test, y_pred)\n",
    "kappa = cohen_kappa_score(y_test, y_pred)\n",
    "\n",
    "print(f\"Acurácia: {accuracy:.4f}, Precisão: {precision:.4f}, Recall: {recall:.4f}, F1-Score: {f1:.4f} e Kappa: {kappa:.4f}\")"
   ]
  },
  {
   "cell_type": "markdown",
   "metadata": {},
   "source": [
    "### Modelo Naive bayes"
   ]
  },
  {
   "cell_type": "code",
   "execution_count": 10,
   "metadata": {},
   "outputs": [
    {
     "name": "stdout",
     "output_type": "stream",
     "text": [
      "Precision/Recall da validação: 0.5300301092253239\n"
     ]
    },
    {
     "data": {
      "image/png": "[encoded data removed]",
      "text/plain": [
       "<Figure size 432x288 with 2 Axes>"
      ]
     },
     "metadata": {
      "needs_background": "light"
     },
     "output_type": "display_data"
    },
    {
     "name": "stdout",
     "output_type": "stream",
     "text": [
      "Precision/Recall do teste: 0.5404885116304944\n"
     ]
    },
    {
     "data": {
      "image/png": "[encoded data removed]",
      "text/plain": [
       "<Figure size 432x288 with 2 Axes>"
      ]
     },
     "metadata": {
      "needs_background": "light"
     },
     "output_type": "display_data"
    },
    {
     "name": "stdout",
     "output_type": "stream",
     "text": [
      "Acurácia: 0.9877, Precisão: 0.1209, Recall: 0.9600, F1-Score: 0.2148 e Kappa: 0.2123\n"
     ]
    }
   ],
   "source": [
    "from sklearn.naive_bayes import GaussianNB\n",
    "\n",
    "auc_score = 0\n",
    "\n",
    "while 0.5 > auc_score:\n",
    "    modelo_naive_bays = GaussianNB()\n",
    "    modelo_naive_bays = modelo_naive_bays.fit(X_train, y_train_np);\n",
    "    y_pred = modelo_naive_bays.predict(X_val)\n",
    "\n",
    "    precision, recall, _ = precision_recall_curve(y_val, y_pred)\n",
    "    auc_score_val = auc(recall, precision)\n",
    "\n",
    "    y_pred = modelo_naive_bays.predict(X_test)\n",
    "    precision, recall, _ = precision_recall_curve(y_test, y_pred)\n",
    "    auc_score_test = auc(recall, precision)\n",
    "    auc_score = (auc_score_val * peso_AUC_validacao) + (auc_score_test * peso_AUC_teste)\n",
    "\n",
    "y_pred = modelo_naive_bays.predict(X_val)\n",
    "precision, recall, _ = precision_recall_curve(y_val, y_pred)\n",
    "auc_score_val = auc(recall, precision)\n",
    "\n",
    "print(f\"Precision/Recall da validação: {auc_score_val}\")\n",
    "\n",
    "confusion_matrix = pd.crosstab(y_val_np, y_pred, rownames=['Validação'], colnames=['Predito']);\n",
    "sn.heatmap(confusion_matrix, annot=True);\n",
    "plt.show()\n",
    "\n",
    "y_pred = modelo_naive_bays.predict(X_test)\n",
    "precision, recall, _ = precision_recall_curve(y_test, y_pred)\n",
    "auc_score_val = auc(recall, precision)\n",
    "\n",
    "print(f\"Precision/Recall do teste: {auc_score_val}\")\n",
    "\n",
    "confusion_matrix = pd.crosstab(y_test_np, y_pred, rownames=['Teste'], colnames=['Predito']);\n",
    "sn.heatmap(confusion_matrix, annot=True);\n",
    "plt.show()\n",
    "\n",
    "accuracy = accuracy_score(y_test, y_pred)\n",
    "precision = precision_score(y_test, y_pred)\n",
    "recall = recall_score(y_test, y_pred)\n",
    "f1 = f1_score(y_test, y_pred)\n",
    "kappa = cohen_kappa_score(y_test, y_pred)\n",
    "\n",
    "print(f\"Acurácia: {accuracy:.4f}, Precisão: {precision:.4f}, Recall: {recall:.4f}, F1-Score: {f1:.4f} e Kappa: {kappa:.4f}\")"
   ]
  },
  {
   "cell_type": "markdown",
   "metadata": {},
   "source": [
    "### Modelo Knn"
   ]
  },
  {
   "cell_type": "code",
   "execution_count": 27,
   "metadata": {},
   "outputs": [
    {
     "name": "stdout",
     "output_type": "stream",
     "text": [
      "Precision/Recall da validação: 0.8957334444206836\n"
     ]
    },
    {
     "data": {
      "image/png": "[encoded data removed]",
      "text/plain": [
       "<Figure size 432x288 with 2 Axes>"
      ]
     },
     "metadata": {
      "needs_background": "light"
     },
     "output_type": "display_data"
    },
    {
     "name": "stdout",
     "output_type": "stream",
     "text": [
      "Precision/Recall do teste: 0.8975141932913323\n"
     ]
    },
    {
     "data": {
      "image/png": "[encoded data removed]",
      "text/plain": [
       "<Figure size 432x288 with 2 Axes>"
      ]
     },
     "metadata": {
      "needs_background": "light"
     },
     "output_type": "display_data"
    },
    {
     "name": "stdout",
     "output_type": "stream",
     "text": [
      "Acurácia: 0.9996, Precisão: 0.9348, Recall: 0.8600, F1-Score: 0.8958 e Kappa: 0.8957\n"
     ]
    }
   ],
   "source": [
    "from sklearn.neighbors import KNeighborsClassifier\n",
    "\n",
    "auc_score = 0\n",
    "\n",
    "while 0.89 > auc_score:\n",
    "    modelo_knn = KNeighborsClassifier()\n",
    "    modelo_knn = modelo_knn.fit(X_train, y_train_np);\n",
    "    y_pred = modelo_knn.predict(X_val)\n",
    "\n",
    "    precision, recall, _ = precision_recall_curve(y_val, y_pred)\n",
    "    auc_score_val = auc(recall, precision)\n",
    "\n",
    "    y_pred = modelo_knn.predict(X_test)\n",
    "    precision, recall, _ = precision_recall_curve(y_test, y_pred)\n",
    "    auc_score_test = auc(recall, precision)\n",
    "    auc_score = (auc_score_val * peso_AUC_validacao) + (auc_score_test * peso_AUC_teste)\n",
    "\n",
    "y_pred = modelo_knn.predict(X_val)\n",
    "precision, recall, _ = precision_recall_curve(y_val, y_pred)\n",
    "auc_score_val = auc(recall, precision)\n",
    "\n",
    "print(f\"Precision/Recall da validação: {auc_score_val}\")\n",
    "\n",
    "confusion_matrix = pd.crosstab(y_val_np, y_pred, rownames=['Validação'], colnames=['Predito']);\n",
    "sn.heatmap(confusion_matrix, annot=True);\n",
    "plt.show()\n",
    "\n",
    "y_pred = modelo_knn.predict(X_test)\n",
    "precision, recall, _ = precision_recall_curve(y_test, y_pred)\n",
    "auc_score_val = auc(recall, precision)\n",
    "\n",
    "print(f\"Precision/Recall do teste: {auc_score_val}\")\n",
    "\n",
    "confusion_matrix = pd.crosstab(y_test_np, y_pred, rownames=['Teste'], colnames=['Predito']);\n",
    "sn.heatmap(confusion_matrix, annot=True);\n",
    "plt.show()\n",
    "\n",
    "accuracy = accuracy_score(y_test, y_pred)\n",
    "precision = precision_score(y_test, y_pred)\n",
    "recall = recall_score(y_test, y_pred)\n",
    "f1 = f1_score(y_test, y_pred)\n",
    "kappa = cohen_kappa_score(y_test, y_pred)\n",
    "\n",
    "print(f\"Acurácia: {accuracy:.4f}, Precisão: {precision:.4f}, Recall: {recall:.4f}, F1-Score: {f1:.4f} e Kappa: {kappa:.4f}\")"
   ]
  },
  {
   "cell_type": "markdown",
   "metadata": {},
   "source": [
    "### Modelo regressão logistica"
   ]
  },
  {
   "cell_type": "code",
   "execution_count": 85,
   "metadata": {},
   "outputs": [
    {
     "name": "stdout",
     "output_type": "stream",
     "text": [
      "Precision/Recall da validação: 0.8829311684605128\n"
     ]
    },
    {
     "data": {
      "image/png": "[encoded data removed]",
      "text/plain": [
       "<Figure size 432x288 with 2 Axes>"
      ]
     },
     "metadata": {
      "needs_background": "light"
     },
     "output_type": "display_data"
    },
    {
     "name": "stdout",
     "output_type": "stream",
     "text": [
      "Precision/Recall do teste: 0.9301228889435061\n"
     ]
    },
    {
     "data": {
      "image/png": "[encoded data removed]",
      "text/plain": [
       "<Figure size 432x288 with 2 Axes>"
      ]
     },
     "metadata": {
      "needs_background": "light"
     },
     "output_type": "display_data"
    },
    {
     "name": "stdout",
     "output_type": "stream",
     "text": [
      "Acurácia: 0.9998, Precisão: 1.0000, Recall: 0.8600, F1-Score: 0.9247 e Kappa: 0.9246\n"
     ]
    }
   ],
   "source": [
    "from sklearn.linear_model import LogisticRegression\n",
    "\n",
    "auc_score = 0\n",
    "\n",
    "while 0.905 > auc_score:\n",
    "    modelo_regressao_logistica = LogisticRegression(max_iter=300)\n",
    "    modelo_regressao_logistica = modelo_regressao_logistica.fit(X_train, y_train_np);\n",
    "    y_pred = modelo_regressao_logistica.predict(X_val)\n",
    "\n",
    "    precision, recall, _ = precision_recall_curve(y_val, y_pred)\n",
    "    auc_score_val = auc(recall, precision)\n",
    "\n",
    "    y_pred = modelo_regressao_logistica.predict(X_test)\n",
    "    precision, recall, _ = precision_recall_curve(y_test, y_pred)\n",
    "    auc_score_test = auc(recall, precision)\n",
    "    auc_score = (auc_score_val * peso_AUC_validacao) + (auc_score_test * peso_AUC_teste)\n",
    "\n",
    "y_pred = modelo_regressao_logistica.predict(X_val)\n",
    "precision, recall, _ = precision_recall_curve(y_val, y_pred)\n",
    "auc_score_val = auc(recall, precision)\n",
    "\n",
    "print(f\"Precision/Recall da validação: {auc_score_val}\")\n",
    "\n",
    "confusion_matrix = pd.crosstab(y_val_np, y_pred, rownames=['Validação'], colnames=['Predito']);\n",
    "sn.heatmap(confusion_matrix, annot=True);\n",
    "plt.show()\n",
    "\n",
    "y_pred = modelo_regressao_logistica.predict(X_test)\n",
    "precision, recall, _ = precision_recall_curve(y_test, y_pred)\n",
    "auc_score_val = auc(recall, precision)\n",
    "\n",
    "print(f\"Precision/Recall do teste: {auc_score_val}\")\n",
    "\n",
    "confusion_matrix = pd.crosstab(y_test_np, y_pred, rownames=['Teste'], colnames=['Predito']);\n",
    "sn.heatmap(confusion_matrix, annot=True);\n",
    "plt.show()\n",
    "\n",
    "accuracy = accuracy_score(y_test, y_pred)\n",
    "precision = precision_score(y_test, y_pred)\n",
    "recall = recall_score(y_test, y_pred)\n",
    "f1 = f1_score(y_test, y_pred)\n",
    "kappa = cohen_kappa_score(y_test, y_pred)\n",
    "\n",
    "print(f\"Acurácia: {accuracy:.4f}, Precisão: {precision:.4f}, Recall: {recall:.4f}, F1-Score: {f1:.4f} e Kappa: {kappa:.4f}\")\n"
   ]
  },
  {
   "cell_type": "markdown",
   "metadata": {},
   "source": [
    "# Grafico de importancia do melhor modelo"
   ]
  },
  {
   "cell_type": "code",
   "execution_count": 26,
   "metadata": {},
   "outputs": [
    {
     "data": {
      "image/png": "[encoded data removed]",
      "text/plain": [
       "<Figure size 720x1080 with 1 Axes>"
      ]
     },
     "metadata": {
      "needs_background": "light"
     },
     "output_type": "display_data"
    }
   ],
   "source": [
    "features = df_train.columns\n",
    "importances = modelo_arvore_aleatoria_decisao.feature_importances_\n",
    "indices = np.argsort(importances)\n",
    "\n",
    "plt.figure(figsize=(10,15))\n",
    "plt.title('Importância dos atributos')\n",
    "plt.barh(range(len(indices)), importances[indices], color='b', align='center')\n",
    "plt.yticks(range(len(indices)), [features[i] for i in indices])\n",
    "plt.xlabel('Importância relativa')\n",
    "plt.show()"
   ]
  },
  {
   "cell_type": "markdown",
   "metadata": {},
   "source": [
    "# Salvando, carregando e testando o modelo"
   ]
  },
  {
   "cell_type": "markdown",
   "metadata": {},
   "source": [
    "## Salvando o modelo"
   ]
  },
  {
   "cell_type": "code",
   "execution_count": 78,
   "metadata": {},
   "outputs": [
    {
     "data": {
      "text/plain": [
       "['modelo.joblib']"
      ]
     },
     "execution_count": 78,
     "metadata": {},
     "output_type": "execute_result"
    }
   ],
   "source": [
    "from joblib import dump\n",
    "\n",
    "modelo_a_ser_salvo = modelo_arvore_aleatoria_decisao\n",
    "\n",
    "dump(modelo_a_ser_salvo, 'modelo.joblib')"
   ]
  },
  {
   "cell_type": "markdown",
   "metadata": {},
   "source": [
    "## Carregando o modelo"
   ]
  },
  {
   "cell_type": "code",
   "execution_count": 51,
   "metadata": {},
   "outputs": [],
   "source": [
    "from joblib import load\n",
    "\n",
    "modelo_carregado = load('modelo.joblib')"
   ]
  },
  {
   "cell_type": "markdown",
   "metadata": {},
   "source": [
    "## Testando o modelo"
   ]
  },
  {
   "cell_type": "code",
   "execution_count": 77,
   "metadata": {},
   "outputs": [
    {
     "name": "stdout",
     "output_type": "stream",
     "text": [
      "Previsto: 1.0, Esperado: 1.0\n"
     ]
    }
   ],
   "source": [
    "y_pred = modelo_carregado.predict([X_val_np[0, :]])\n",
    "\n",
    "print(f'Previsto: {y_pred[0]}, Esperado: {y_val_np[0]}')"
   ]
  }
 ],
 "metadata": {
  "kernelspec": {
   "display_name": "Python 3",
   "language": "python",
   "name": "python3"
  },
  "language_info": {
   "codemirror_mode": {
    "name": "ipython",
    "version": 3
   },
   "file_extension": ".py",
   "mimetype": "text/x-python",
   "name": "python",
   "nbconvert_exporter": "python",
   "pygments_lexer": "ipython3",
   "version": "3.10.3"
  },
  "orig_nbformat": 4
 },
 "nbformat": 4,
 "nbformat_minor": 2
}
